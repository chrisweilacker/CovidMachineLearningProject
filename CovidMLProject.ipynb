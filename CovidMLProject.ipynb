{
 "cells": [
  {
   "cell_type": "markdown",
   "metadata": {},
   "source": [
    "## Covid Morbidity Factors Exploration Project\n",
    "### Chris Weilacker, Kirk Kosinski, Patrick Cao, OJ Alcaraz\n",
    "### 9 February 2021"
   ]
  },
  {
   "cell_type": "markdown",
   "metadata": {},
   "source": [
    "#### Datasets are orginally from the following:\n",
    "\n",
    "##### COVID-19 Case Mortality Ratios by Country\n",
    "\n",
    "https://www.kaggle.com/paultimothymooney/coronavirus-covid19-mortality-rate-by-country\n",
    "\n",
    "##### Percentage of Population 65 and Over by Country (2019)\n",
    "\n",
    "https://www.kaggle.com/krukmat/demographic-and-socioeconomic-unesco\n",
    "\n",
    "##### Percentage of Obesity among Adults by Country (2016)\n",
    "https://www.kaggle.com/amanarora/obesity-among-adults-by-country-19752016\n",
    "\n",
    "### Problem Question: Can we predict the Case Mortality Ratio of a Country utilizing its Pop above 65 and Percentage of Obesity\n",
    "\n",
    "#### We decided on using Population Over Age 65 and Obesity as in the US over 80% of the deaths were in the population 65 and over, and the CDC has stated that 94 % of deaths had some underlying health condition.  In it's Vaccine Distribution plan California has listed several diseases such as heart disease and Diabetes which are known to be exaserbated by Obesity as priority for recieving a vaccine.  Our idea is that we can more accurately predict the Mortality Ratio of Covid-19 by using both population 65+ and Obesity rather than just population 65+, which can show that creating a healthier population may be the best way to prevent the devastation in future pandemics that the US is currently facing."
   ]
  },
  {
   "cell_type": "code",
   "execution_count": null,
   "metadata": {},
   "outputs": [],
   "source": []
  }
 ],
 "metadata": {
  "kernelspec": {
   "display_name": "Python 3",
   "language": "python",
   "name": "python3"
  },
  "language_info": {
   "codemirror_mode": {
    "name": "ipython",
    "version": 3
   },
   "file_extension": ".py",
   "mimetype": "text/x-python",
   "name": "python",
   "nbconvert_exporter": "python",
   "pygments_lexer": "ipython3",
   "version": "3.8.5"
  }
 },
 "nbformat": 4,
 "nbformat_minor": 4
}

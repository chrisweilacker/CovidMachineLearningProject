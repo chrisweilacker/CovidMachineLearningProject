{
 "cells": [
  {
   "cell_type": "markdown",
   "metadata": {},
   "source": [
    "## Covid Morbidity Factors Exploration Project\n",
    "### Chris Weilacker, Kirk Kosinski, Patrick Cao, OJ Alcaraz\n",
    "### 9 February 2021"
   ]
  },
  {
   "cell_type": "markdown",
   "metadata": {},
   "source": [
    "#### Datasets are orginally from the following:\n",
    "\n",
    "##### COVID-19 Case Mortality Ratios by Country\n",
    "\n",
    "https://www.kaggle.com/paultimothymooney/coronavirus-covid19-mortality-rate-by-country\n",
    "\n",
    "##### Percentage of Population 65 and Over by Country (2019)\n",
    "\n",
    "https://www.kaggle.com/krukmat/demographic-and-socioeconomic-unesco\n",
    "\n",
    "##### Percentage of Obesity among Adults by Country (2016)\n",
    "https://www.kaggle.com/amanarora/obesity-among-adults-by-country-19752016\n",
    "\n",
    "### Problem Question: Can we predict the Case Mortality Ratio of a Country utilizing its Pop above 65 and Percentage of Obesity\n",
    "\n",
    "#### We decided on using Population Over Age 65 and Obesity as in the US over 80% of the deaths were in the population 65 and over, and the CDC has stated that 94 % of deaths had some underlying health condition.  In it's Vaccine Distribution plan California has listed several diseases such as heart disease and Diabetes which are known to be exaserbated by Obesity as priority for recieving a vaccine.  Our idea is that we can more accurately predict the Mortality Ratio of Covid-19 by using both population 65+ and Obesity rather than just population 65+, which can show that creating a healthier population may be the best way to prevent the devastation in future pandemics that the US is currently facing.\n",
    "\n",
    "### On the following slide we will run some Data Preprocessing to get all of our data in one Data Frame df."
   ]
  },
  {
   "cell_type": "code",
   "execution_count": 4,
   "metadata": {},
   "outputs": [
    {
     "data": {
      "text/html": [
       "<style  type=\"text/css\" >\n",
       "#T_30477fd3_6fe8_11eb_b57b_74da38d5a88brow0_col0,#T_30477fd3_6fe8_11eb_b57b_74da38d5a88brow1_col1,#T_30477fd3_6fe8_11eb_b57b_74da38d5a88brow2_col2{\n",
       "            background-color:  #b40426;\n",
       "            color:  #f1f1f1;\n",
       "        }#T_30477fd3_6fe8_11eb_b57b_74da38d5a88brow0_col1,#T_30477fd3_6fe8_11eb_b57b_74da38d5a88brow0_col2,#T_30477fd3_6fe8_11eb_b57b_74da38d5a88brow2_col0{\n",
       "            background-color:  #3b4cc0;\n",
       "            color:  #f1f1f1;\n",
       "        }#T_30477fd3_6fe8_11eb_b57b_74da38d5a88brow1_col0{\n",
       "            background-color:  #5875e1;\n",
       "            color:  #000000;\n",
       "        }#T_30477fd3_6fe8_11eb_b57b_74da38d5a88brow1_col2{\n",
       "            background-color:  #b2ccfb;\n",
       "            color:  #000000;\n",
       "        }#T_30477fd3_6fe8_11eb_b57b_74da38d5a88brow2_col1{\n",
       "            background-color:  #9bbcff;\n",
       "            color:  #000000;\n",
       "        }</style><table id=\"T_30477fd3_6fe8_11eb_b57b_74da38d5a88b\" ><thead>    <tr>        <th class=\"blank level0\" ></th>        <th class=\"col_heading level0 col0\" >Covid-19 Mortality Ratio</th>        <th class=\"col_heading level0 col1\" >Perc65Over</th>        <th class=\"col_heading level0 col2\" >Obesity</th>    </tr></thead><tbody>\n",
       "                <tr>\n",
       "                        <th id=\"T_30477fd3_6fe8_11eb_b57b_74da38d5a88blevel0_row0\" class=\"row_heading level0 row0\" >Covid-19 Mortality Ratio</th>\n",
       "                        <td id=\"T_30477fd3_6fe8_11eb_b57b_74da38d5a88brow0_col0\" class=\"data row0 col0\" >1.000000</td>\n",
       "                        <td id=\"T_30477fd3_6fe8_11eb_b57b_74da38d5a88brow0_col1\" class=\"data row0 col1\" >0.127780</td>\n",
       "                        <td id=\"T_30477fd3_6fe8_11eb_b57b_74da38d5a88brow0_col2\" class=\"data row0 col2\" >0.037187</td>\n",
       "            </tr>\n",
       "            <tr>\n",
       "                        <th id=\"T_30477fd3_6fe8_11eb_b57b_74da38d5a88blevel0_row1\" class=\"row_heading level0 row1\" >Perc65Over</th>\n",
       "                        <td id=\"T_30477fd3_6fe8_11eb_b57b_74da38d5a88brow1_col0\" class=\"data row1 col0\" >0.127780</td>\n",
       "                        <td id=\"T_30477fd3_6fe8_11eb_b57b_74da38d5a88brow1_col1\" class=\"data row1 col1\" >1.000000</td>\n",
       "                        <td id=\"T_30477fd3_6fe8_11eb_b57b_74da38d5a88brow1_col2\" class=\"data row1 col2\" >0.382828</td>\n",
       "            </tr>\n",
       "            <tr>\n",
       "                        <th id=\"T_30477fd3_6fe8_11eb_b57b_74da38d5a88blevel0_row2\" class=\"row_heading level0 row2\" >Obesity</th>\n",
       "                        <td id=\"T_30477fd3_6fe8_11eb_b57b_74da38d5a88brow2_col0\" class=\"data row2 col0\" >0.037187</td>\n",
       "                        <td id=\"T_30477fd3_6fe8_11eb_b57b_74da38d5a88brow2_col1\" class=\"data row2 col1\" >0.382828</td>\n",
       "                        <td id=\"T_30477fd3_6fe8_11eb_b57b_74da38d5a88brow2_col2\" class=\"data row2 col2\" >1.000000</td>\n",
       "            </tr>\n",
       "    </tbody></table>"
      ],
      "text/plain": [
       "<pandas.io.formats.style.Styler at 0x212932468b0>"
      ]
     },
     "execution_count": 4,
     "metadata": {},
     "output_type": "execute_result"
    }
   ],
   "source": [
    "\n",
    "import numpy as np\n",
    "import pandas as pd\n",
    "from matplotlib import rcParams\n",
    "import seaborn as sns\n",
    "from scipy.stats import zscore\n",
    "\n",
    "# allow output to span multiple output lines in the console\n",
    "pd.set_option('display.max_columns', 500)\n",
    "\n",
    "# switch to seaborn default stylistic parameters\n",
    "# see the very useful https://seaborn.pydata.org/tutorial/aesthetics.html\n",
    "sns.set()\n",
    "sns.set_context('talk')\n",
    "\n",
    "# change default plot size\n",
    "rcParams['figure.figsize'] = 10,8\n",
    "# Covid Data\n",
    "covidDF = pd.read_csv('https://raw.githubusercontent.com/chrisweilacker/CovidMachineLearningProject/master/global_covid19_mortality_rates.csv', index_col=0)\n",
    "# 2016 Data for Both Sexes is in Column Both Sexes\n",
    "obesityDF = pd.read_csv('https://raw.githubusercontent.com/chrisweilacker/CovidMachineLearningProject/master/obesity-data.csv', skiprows=3)\n",
    "# Demographics Data which includes the percentage of population over 65 per country.\n",
    "demoDF = pd.read_csv('https://raw.githubusercontent.com/chrisweilacker/CovidMachineLearningProject/master/DEMO_Global.csv')\n",
    "\n",
    "# Create our DataFrame with the necessary data from all three datasets\n",
    "df = covidDF.merge(obesityDF[['Country', 'Both sexes']], how='inner') #Copy in the whole Covid Data and the Obesity Data\n",
    "# Modify name of Both Sexes to Obesity and get just the number\n",
    "df.rename(columns={'Both sexes': 'Obesity'}, inplace=True)\n",
    "obNumber = df['Obesity'].str.split(\" \", n = 1, expand = True) \n",
    "df['Obesity'] = obNumber[0]\n",
    "\n",
    "#Drop Rows with no Obesity Data\n",
    "df.drop(df.loc[df['Obesity']=='No'].index, inplace=True)\n",
    "#Drop Rows with no Covid Data\n",
    "df.drop(df.loc[df['Mortality Ratio']==0].index, inplace=True)\n",
    "df.rename(columns={'Mortality Ratio': 'Covid-19 Mortality Ratio'}, inplace=True)\n",
    "# Convert Obesity data to float\n",
    "df['Obesity'] = pd.to_numeric(df['Obesity'], downcast=\"float\")\n",
    "\n",
    "df = df.merge(demoDF[['Country', 'Value']][(demoDF['Time']==2017) & (demoDF['Indicator']=='Population aged 65 years or older ')], how='inner') #Copy in the 65 and Over Data\n",
    "df.rename(columns={'Value': 'Pop65Over'}, inplace=True)\n",
    "df = df.merge(demoDF[['Country', 'Value']][(demoDF['Time']==2017) & (demoDF['Indicator']=='Total population ')], how='inner') #Copy in the 65 and Over Data\n",
    "df.rename(columns={'Value': 'TotPop'}, inplace=True)\n",
    "\n",
    "# Create Perc 65 and Over\n",
    "df['Perc65Over'] = (100 * df['Pop65Over']/df['TotPop'])\n",
    "\n",
    "corr = df[['Covid-19 Mortality Ratio', 'Perc65Over', 'Obesity']].corr()\n",
    "#It seems that there is a correlation between both Perc 65 and Over, Obesity and Covid-19 Mortality Ratio\n",
    "#Though the Perc65 and Over seems to be stronger than Obesity, but the data has not been normalized yet.\n",
    "corr.style.background_gradient(cmap='coolwarm')\n"
   ]
  },
  {
   "cell_type": "code",
   "execution_count": null,
   "metadata": {},
   "outputs": [],
   "source": []
  }
 ],
 "metadata": {
  "kernelspec": {
   "display_name": "Python 3",
   "language": "python",
   "name": "python3"
  },
  "language_info": {
   "codemirror_mode": {
    "name": "ipython",
    "version": 3
   },
   "file_extension": ".py",
   "mimetype": "text/x-python",
   "name": "python",
   "nbconvert_exporter": "python",
   "pygments_lexer": "ipython3",
   "version": "3.8.5"
  }
 },
 "nbformat": 4,
 "nbformat_minor": 4
}
